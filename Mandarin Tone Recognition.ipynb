{
 "cells": [
  {
   "cell_type": "markdown",
   "metadata": {},
   "source": [
    "# Introduction\n",
    "\n",
    "Aim: to recognize the tone of a Mandarin sylable from an audio recording.\n",
    "\n",
    "TODO: Add detailed introduction"
   ]
  },
  {
   "cell_type": "markdown",
   "metadata": {},
   "source": [
    "## Data Collection\n",
    "\n",
    "Wiktionary.com contains pronunciation examples for a large selection of Mandarin expressions. In this section, Mandarin expressions with available pronunciations are identified, and the audio files are downloaded."
   ]
  },
  {
   "cell_type": "code",
   "execution_count": 9,
   "metadata": {},
   "outputs": [],
   "source": [
    "import requests\n",
    "from bs4 import BeautifulSoup\n",
    "import re\n",
    "from tqdm.notebook import tqdm\n",
    "import pandas as pd\n",
    "import pickle\n",
    "import time\n",
    "import os"
   ]
  },
  {
   "cell_type": "code",
   "execution_count": 2,
   "metadata": {},
   "outputs": [],
   "source": [
    "def clean_html(soup):\n",
    "    \"\"\"\n",
    "    Remove all html with the unwanted classes\n",
    "    \"\"\"\n",
    "    unwanted_classes = ['sister-wikipedia', 'thumb', 'reference', 'cited-source']\n",
    "    for tag in soup.find_all(True, {'class': unwanted_classes}):\n",
    "        tag.extract()\n",
    "        \n",
    "def parse_next_page_links(soup, category):\n",
    "    \"\"\"\n",
    "    Return url of the next page for multi-page lists.\n",
    "    \"\"\"\n",
    "    link_tags = soup.find('div', {'id': 'mw-pages'}).find_all('a', {'title': category})\n",
    "    return [link['href'] for link in link_tags if link.text == 'next page']\n",
    "\n",
    "def parse_category_words(soup):\n",
    "    \"\"\"\n",
    "    Return list of (linked) words from a single category page of Wiktionary\n",
    "    \"\"\"\n",
    "    words_content = soup.find('div', {'id': 'mw-pages'}).find('div', {'class': 'mw-content-ltr'})\n",
    "    words = [word.text for word in words_content.find_all('a')]\n",
    "    return words\n",
    "\n",
    "def get_category_data(soup, category):\n",
    "    \"\"\"\n",
    "    Return all (linked) words from a Wiktionary category including multiple pages\n",
    "    \"\"\"\n",
    "    words = []\n",
    "    next_page_links = parse_next_page_links(soup, category)\n",
    "    while len(next_page_links) > 0:\n",
    "        words += parse_category_words(soup)\n",
    "        response = session.get('https://en.wiktionary.org/' + next_page_links[0])\n",
    "        soup = BeautifulSoup(response.text.replace('>\\n<', '><'), 'html.parser')\n",
    "        clean_html(soup)\n",
    "        next_page_links = parse_next_page_links(soup, category)\n",
    "    words += parse_category_words(soup)\n",
    "    return words"
   ]
  },
  {
   "cell_type": "code",
   "execution_count": 3,
   "metadata": {},
   "outputs": [
    {
     "name": "stdout",
     "output_type": "stream",
     "text": [
      "['鞄', '一', '一下兒', '一些', '一共', '一再', '一切', '一向', '一塊兒', '一定']\n"
     ]
    }
   ],
   "source": [
    "#Get html for page 1 of Category:Mandarin terms with audio links\n",
    "session = requests.Session()\n",
    "category = \"Category:Mandarin terms with audio links\"\n",
    "response = session.get(\"https://en.wiktionary.org/wiki/{}\".format(category))\n",
    "soup = BeautifulSoup(response.text.replace('>\\n<', '><'), 'html.parser')\n",
    "\n",
    "#Extract words from html\n",
    "clean_html(soup)\n",
    "words = get_category_data(soup, category)\n",
    "\n",
    "#Remove words that are not Chinese characters\n",
    "words = [w for w in words if not re.search(r'[^\\u4e00-\\u9fff]+', w)]\n",
    "\n",
    "#Print the first 10 words as examples\n",
    "print(words[:10])"
   ]
  },
  {
   "cell_type": "code",
   "execution_count": 4,
   "metadata": {},
   "outputs": [],
   "source": [
    "def get_pronunciation_source(word, session):\n",
    "    \"\"\"\n",
    "    Return the pinyin and link to audio pronunciation example for a \n",
    "    Mandarin word from Wiktionary\n",
    "    \"\"\"\n",
    "    source = None\n",
    "    response = session.get(\"https://en.wiktionary.org/wiki/{}\".format(word))\n",
    "    soup = BeautifulSoup(response.text.replace('>\\n<', '><'), 'html.parser')\n",
    "    pronunciations_box = soup.find(\"div\", {\"data-toggle-category\": \"pronunciations\"})\n",
    "    \n",
    "    pinyin_tag = pronunciations_box.find_all(\"a\", text=\"Pinyin\")[0]\n",
    "    pinyin = [a for a in pinyin_tag.find_parent().find_parent().find_parent().find_all(\"a\") if a.text != \"Pinyin\"][0].text\n",
    "    \n",
    "    mandarin_li = [li for li in pronunciations_box.find_all(\"li\") if li.find_all(\"a\", text=\"Mandarin\")]\n",
    "    if mandarin_li[0].find(\"source\"):\n",
    "        source = mandarin_li[0].find(\"source\")[\"src\"]\n",
    "    return pinyin, source"
   ]
  },
  {
   "cell_type": "code",
   "execution_count": 6,
   "metadata": {},
   "outputs": [
    {
     "data": {
      "application/vnd.jupyter.widget-view+json": {
       "model_id": "e6dc4b8b47aa4a09a571f5f04dfb009f",
       "version_major": 2,
       "version_minor": 0
      },
      "text/plain": [
       "HBox(children=(HTML(value=''), FloatProgress(value=0.0, max=4932.0), HTML(value='')))"
      ]
     },
     "metadata": {},
     "output_type": "display_data"
    },
    {
     "name": "stdout",
     "output_type": "stream",
     "text": [
      "\n"
     ]
    }
   ],
   "source": [
    "#Collect pinyins and audio sources for Mandarin words with audio links\n",
    "sources = []\n",
    "pinyins = []\n",
    "for word in tqdm(words):\n",
    "    pinyin, source = get_pronunciation_source(word, session)\n",
    "    sources.append(source)\n",
    "    pinyins.append(pinyin)"
   ]
  },
  {
   "cell_type": "code",
   "execution_count": 7,
   "metadata": {},
   "outputs": [],
   "source": [
    "df = pd.DataFrame({\"word\": words, \"pinyin\": pinyins, \"source\": sources})\n",
    "df = df.dropna()\n",
    "\n",
    "with open(\"dataset\", \"wb\") as file:\n",
    "    pickle.dump(df, file)"
   ]
  },
  {
   "cell_type": "markdown",
   "metadata": {},
   "source": [
    "### Download audio files"
   ]
  },
  {
   "cell_type": "code",
   "execution_count": 15,
   "metadata": {},
   "outputs": [
    {
     "data": {
      "application/vnd.jupyter.widget-view+json": {
       "model_id": "08fef61f0ccd47a38e0171bd94e6a79b",
       "version_major": 2,
       "version_minor": 0
      },
      "text/plain": [
       "HBox(children=(HTML(value=''), FloatProgress(value=0.0, max=4910.0), HTML(value='')))"
      ]
     },
     "metadata": {},
     "output_type": "display_data"
    },
    {
     "name": "stdout",
     "output_type": "stream",
     "text": [
      "\n"
     ]
    }
   ],
   "source": [
    "if not os.path.isdir(\"data/\"):\n",
    "    os.mkdir(\"data/\")\n",
    "for word, source in tqdm(list(zip(df.word.tolist(), df.source.tolist()))):\n",
    "    if not os.path.isfile(\"data/{}.ogg\".format(word)):\n",
    "        response = session.get(\"http:\" + source)\n",
    "        if response.status_code == 200:\n",
    "            with open(\"data/{}.ogg\".format(word), \"wb\") as file:\n",
    "                file.write(response.content)\n",
    "        else:\n",
    "            print(response.status_code)\n",
    "            print(\"Error downloading {}.ogg\".format(word))\n",
    "        #Avoid too many requests\n",
    "        time.sleep(0.7)"
   ]
  },
  {
   "cell_type": "code",
   "execution_count": null,
   "metadata": {},
   "outputs": [],
   "source": []
  }
 ],
 "metadata": {
  "kernelspec": {
   "display_name": "Python 3",
   "language": "python",
   "name": "python3"
  },
  "language_info": {
   "codemirror_mode": {
    "name": "ipython",
    "version": 3
   },
   "file_extension": ".py",
   "mimetype": "text/x-python",
   "name": "python",
   "nbconvert_exporter": "python",
   "pygments_lexer": "ipython3",
   "version": "3.8.5"
  }
 },
 "nbformat": 4,
 "nbformat_minor": 4
}
